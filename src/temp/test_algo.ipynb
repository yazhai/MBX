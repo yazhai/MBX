{
 "cells": [
  {
   "cell_type": "code",
   "execution_count": 1,
   "metadata": {},
   "outputs": [],
   "source": [
    "import math"
   ]
  },
  {
   "cell_type": "code",
   "execution_count": 2,
   "metadata": {},
   "outputs": [],
   "source": [
    "world_size = 4\n",
    "world_rank = 0"
   ]
  },
  {
   "cell_type": "code",
   "execution_count": 3,
   "metadata": {},
   "outputs": [],
   "source": [
    "itotal =100  # # of monomers"
   ]
  },
  {
   "cell_type": "code",
   "execution_count": 4,
   "metadata": {},
   "outputs": [
    {
     "data": {
      "text/plain": [
       "161700.0"
      ]
     },
     "execution_count": 4,
     "metadata": {},
     "output_type": "execute_result"
    }
   ],
   "source": [
    "# n_total = itotal * (itotal - 1) /2\n",
    "n_total = itotal * (itotal - 1) * (itotal - 2) / 6\n",
    "n_total"
   ]
  },
  {
   "cell_type": "code",
   "execution_count": 5,
   "metadata": {},
   "outputs": [
    {
     "name": "stdout",
     "output_type": "stream",
     "text": [
      "40425.0\n"
     ]
    }
   ],
   "source": [
    "n_exp = n_total / world_size \n",
    "print(n_exp)"
   ]
  },
  {
   "cell_type": "code",
   "execution_count": 6,
   "metadata": {},
   "outputs": [],
   "source": [
    "def n_for_each_i_2b (total, i):\n",
    "    \n",
    "    return total - i - 1"
   ]
  },
  {
   "cell_type": "code",
   "execution_count": 7,
   "metadata": {},
   "outputs": [],
   "source": [
    "def n_for_each_i_3b(total, i):\n",
    "    \n",
    "    return (total-i-1)*(total-i-2)/2"
   ]
  },
  {
   "cell_type": "code",
   "execution_count": 41,
   "metadata": {},
   "outputs": [],
   "source": [
    "def find_combination(total, chose):\n",
    "    rst = 1\n",
    "    for i in range(chose):\n",
    "        rst *= total-i\n",
    "        rst /= (i+1)\n",
    "    return rst "
   ]
  },
  {
   "cell_type": "markdown",
   "metadata": {},
   "source": [
    "# 2B iteration\n",
    "istart_all = []\n",
    "iend_all = []\n",
    "n_rank_all = []\n",
    "\n",
    "ii = 0\n",
    "for i in range(world_size):\n",
    "    istart = ii\n",
    "    istart_all.append(istart)\n",
    "    \n",
    "    iend_tmp =  int ( itotal * (1 - math.sqrt((world_size - i - 1) / world_size) ) )  \n",
    "    print(iend_tmp)\n",
    "    iend = max( istart + 1, iend_tmp)\n",
    "    \n",
    "    \n",
    "    isize = int( ( n_for_each_i_2b(itotal, istart) + n_for_each_i_2b(itotal, iend-1) ) * (iend-istart) /2 )\n",
    "    \n",
    "    iend_all.append(iend)\n",
    "    n_rank_all.append(isize)\n",
    "    \n",
    "    ii = iend"
   ]
  },
  {
   "cell_type": "code",
   "execution_count": 48,
   "metadata": {},
   "outputs": [
    {
     "name": "stdout",
     "output_type": "stream",
     "text": [
      "9\n",
      "20\n",
      "37\n",
      "100\n"
     ]
    }
   ],
   "source": [
    "# 3B iteration\n",
    "istart_all = []\n",
    "iend_all = []\n",
    "n_rank_all = []\n",
    "\n",
    "ii = 0\n",
    "for i in range(world_size):\n",
    "    istart = ii\n",
    "    istart_all.append(istart)\n",
    "    \n",
    "    iend_tmp =  int(   itotal * (1 - ((world_size - i - 1) / world_size)**(1./3.))    )  \n",
    "    print(iend_tmp)\n",
    "    iend = max( istart + 1, iend_tmp)\n",
    "    \n",
    "    \n",
    "    isize = find_combination(itotal - istart, 3) - find_combination(itotal - iend, 3)\n",
    "    \n",
    "    iend_all.append(iend)\n",
    "    n_rank_all.append(isize)\n",
    "    \n",
    "    ii = iend"
   ]
  },
  {
   "cell_type": "code",
   "execution_count": 49,
   "metadata": {},
   "outputs": [
    {
     "data": {
      "text/plain": [
       "[0, 9, 20, 37]"
      ]
     },
     "execution_count": 49,
     "metadata": {},
     "output_type": "execute_result"
    }
   ],
   "source": [
    "istart_all"
   ]
  },
  {
   "cell_type": "code",
   "execution_count": 50,
   "metadata": {},
   "outputs": [
    {
     "data": {
      "text/plain": [
       "[9, 20, 37, 100]"
      ]
     },
     "execution_count": 50,
     "metadata": {},
     "output_type": "execute_result"
    }
   ],
   "source": [
    "iend_all"
   ]
  },
  {
   "cell_type": "code",
   "execution_count": 51,
   "metadata": {
    "scrolled": true
   },
   "outputs": [
    {
     "data": {
      "text/plain": [
       "[40215.0, 39325.0, 42449.0, 39711.0]"
      ]
     },
     "execution_count": 51,
     "metadata": {},
     "output_type": "execute_result"
    }
   ],
   "source": [
    "n_rank_all"
   ]
  },
  {
   "cell_type": "code",
   "execution_count": 52,
   "metadata": {},
   "outputs": [
    {
     "data": {
      "text/plain": [
       "161700.0"
      ]
     },
     "execution_count": 52,
     "metadata": {},
     "output_type": "execute_result"
    }
   ],
   "source": [
    "ntot = 0\n",
    "for n in n_rank_all:\n",
    "    ntot += n\n",
    "ntot "
   ]
  },
  {
   "cell_type": "code",
   "execution_count": 53,
   "metadata": {},
   "outputs": [
    {
     "data": {
      "text/plain": [
       "40215.0"
      ]
     },
     "execution_count": 53,
     "metadata": {},
     "output_type": "execute_result"
    }
   ],
   "source": [
    "tot_tmp = 0\n",
    "for i in range(istart_all[0], iend_all[0]):\n",
    "    tot_tmp += n_for_each_i_3b(itotal, i)\n",
    "tot_tmp"
   ]
  },
  {
   "cell_type": "code",
   "execution_count": 54,
   "metadata": {},
   "outputs": [
    {
     "data": {
      "text/plain": [
       "40215.0"
      ]
     },
     "execution_count": 54,
     "metadata": {},
     "output_type": "execute_result"
    }
   ],
   "source": [
    "find_combination(itotal - istart_all[0], 3) - find_combination(itotal - iend_all[0], 3)"
   ]
  },
  {
   "cell_type": "code",
   "execution_count": null,
   "metadata": {},
   "outputs": [],
   "source": []
  }
 ],
 "metadata": {
  "kernelspec": {
   "display_name": "Python 3",
   "language": "python",
   "name": "python3"
  },
  "language_info": {
   "codemirror_mode": {
    "name": "ipython",
    "version": 3
   },
   "file_extension": ".py",
   "mimetype": "text/x-python",
   "name": "python",
   "nbconvert_exporter": "python",
   "pygments_lexer": "ipython3",
   "version": "3.7.4"
  }
 },
 "nbformat": 4,
 "nbformat_minor": 4
}
